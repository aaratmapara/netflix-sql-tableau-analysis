{
 "cells": [
  {
   "cell_type": "markdown",
   "id": "fc7de95a-fec9-427f-b352-e38c8c2db8a2",
   "metadata": {},
   "source": [
    "# Netflix Content — SQL Load Helper\n",
    "\n",
    "**Purpose:** Load CSVs into a local MySQL database for the Tableau dashboard.  \n",
    "**Tools:** Python (pandas, SQLAlchemy), MySQL.  \n",
    "**What this does:**  \n",
    "1) Connects to MySQL  \n",
    "2) Creates database if missing  \n",
    "3) Loads the main `netflix_titles.csv`  \n",
    "4) (Optional) Loads prepared CSV extracts (movies_vs_tv, content_per_year, etc.) into their own tables"
   ]
  },
  {
   "cell_type": "markdown",
   "id": "72e9777c-8b81-4061-b196-f84bbb1e531f",
   "metadata": {},
   "source": [
    "#### Step 1 — Load Main Dataset\n",
    "We load `netflix_titles.csv` using pandas, clean column names, and preview the first few rows.  \n"
   ]
  },
  {
   "cell_type": "code",
   "execution_count": 1,
   "id": "818f11d9-7807-4aee-91c8-b43c3f50874a",
   "metadata": {},
   "outputs": [
    {
     "name": "stdout",
     "output_type": "stream",
     "text": [
      "Done\n"
     ]
    }
   ],
   "source": [
    "import pandas as pd\n",
    "\n",
    "df = pd.read_csv(\"../data/netflix_titles.csv.zip\")\n",
    "\n",
    "df.to_csv(\"../data/netflix_titles_utf8.csv\", index=False, encoding=\"utf-8\")\n",
    "\n",
    "print(\"Done\")"
   ]
  },
  {
   "cell_type": "code",
   "execution_count": 2,
   "id": "829aa861-2f4f-4314-b773-8c5c0f2d1f69",
   "metadata": {},
   "outputs": [
    {
     "name": "stdout",
     "output_type": "stream",
     "text": [
      "Requirement already satisfied: sqlalchemy in /opt/anaconda3/lib/python3.13/site-packages (2.0.39)\n",
      "Requirement already satisfied: pymysql in /opt/anaconda3/lib/python3.13/site-packages (1.1.2)\n",
      "Requirement already satisfied: typing-extensions>=4.6.0 in /opt/anaconda3/lib/python3.13/site-packages (from sqlalchemy) (4.12.2)\n"
     ]
    }
   ],
   "source": [
    "# install once if needed\n",
    "!pip install sqlalchemy pymysql"
   ]
  },
  {
   "cell_type": "markdown",
   "id": "6e21c694-9493-48ce-9cf9-ef3e4561ebcc",
   "metadata": {},
   "source": [
    "#### Step 2 — Connect to MySQL & Create Database\n",
    "We define connection settings (user, password, host, port).  \n",
    "Update these values depending on your MySQL installation.  \n",
    "\n",
    "If the `netflix` database does not exist, create it.  \n",
    "This ensures the rest of the notebook can run without manual setup.  "
   ]
  },
  {
   "cell_type": "code",
   "execution_count": 5,
   "id": "76594450-0e63-434e-ae7f-a84b1b6995dd",
   "metadata": {},
   "outputs": [],
   "source": [
    "from sqlalchemy import create_engine\n",
    "from sqlalchemy.engine import URL\n",
    "\n",
    "MYSQL_USER = \"your_username\"     # replace with your MySQL username\n",
    "MYSQL_PWD  = \"your_password\"     # replace with your MySQL password\n",
    "DB_NAME    = \"netflix_db\"\n",
    "\n",
    "url = URL.create(\n",
    "    drivername=\"mysql+pymysql\",\n",
    "    username=MYSQL_USER,\n",
    "    password=MYSQL_PWD,\n",
    "    host=\"127.0.0.1\",   # or 'localhost'\n",
    "    port=3306,\n",
    "    database=DB_NAME,\n",
    "    query={\"charset\": \"utf8mb4\"}\n",
    ")\n",
    "\n",
    "engine = create_engine(url)\n",
    "print(\"Database connection ready (update user/password before running).\")"
   ]
  },
  {
   "cell_type": "markdown",
   "id": "315bce94-6491-464b-86c0-23341a71d9bc",
   "metadata": {},
   "source": [
    "### Step 3 Write to MySQL\n",
    "\n",
    "The DataFrame is written into the `netflix_titles` table.  \n",
    "If the table already exists, it is replaced.  "
   ]
  },
  {
   "cell_type": "code",
   "execution_count": 6,
   "id": "69fe3aee-fdce-4261-89dc-99315482654f",
   "metadata": {},
   "outputs": [
    {
     "name": "stdout",
     "output_type": "stream",
     "text": [
      "Rows written: 8807\n"
     ]
    }
   ],
   "source": [
    "import pandas as pd\n",
    "from sqlalchemy import types\n",
    "\n",
    "csv_path = \"../data/netflix_titles_utf8.csv\"\n",
    "df = pd.read_csv(csv_path, low_memory=False)\n",
    "\n",
    "sql_types = {\n",
    "    \"show_id\":   types.VARCHAR(20),\n",
    "    \"type\":      types.VARCHAR(10),\n",
    "    \"title\":     types.VARCHAR(255),\n",
    "    \"director\":  types.VARCHAR(255),\n",
    "    \"cast\":      types.TEXT,\n",
    "    \"country\":   types.VARCHAR(255),\n",
    "    \"date_added\":types.VARCHAR(50),\n",
    "    \"release_year\": types.Integer,\n",
    "    \"rating\":    types.VARCHAR(15),\n",
    "    \"duration\":  types.VARCHAR(40),\n",
    "    \"listed_in\": types.VARCHAR(255),\n",
    "    \"description\": types.TEXT,\n",
    "}\n",
    "\n",
    "df.to_sql(\"netflix_titles\", con=engine, if_exists=\"replace\", index=False, dtype=sql_types)\n",
    "print(\"Rows written:\", len(df))"
   ]
  },
  {
   "cell_type": "markdown",
   "id": "5699c1ea-f684-440a-ab8f-506161126ed4",
   "metadata": {},
   "source": [
    "## Notes\n",
    "- Update `MYSQL_USER` and `MYSQL_PWD` before running.  \n",
    "- If errors occur (e.g., `Access denied`), verify that MySQL is running and that the credentials are correct.  \n",
    "- For Tableau, either connect directly to this MySQL database or use the CSV extracts in the `data/` folder.  "
   ]
  },
  {
   "cell_type": "code",
   "execution_count": null,
   "id": "db19681f-2713-465f-8321-6d66af9821a4",
   "metadata": {},
   "outputs": [],
   "source": []
  }
 ],
 "metadata": {
  "kernelspec": {
   "display_name": "Python 3 (ipykernel)",
   "language": "python",
   "name": "python3"
  },
  "language_info": {
   "codemirror_mode": {
    "name": "ipython",
    "version": 3
   },
   "file_extension": ".py",
   "mimetype": "text/x-python",
   "name": "python",
   "nbconvert_exporter": "python",
   "pygments_lexer": "ipython3",
   "version": "3.13.5"
  }
 },
 "nbformat": 4,
 "nbformat_minor": 5
}
